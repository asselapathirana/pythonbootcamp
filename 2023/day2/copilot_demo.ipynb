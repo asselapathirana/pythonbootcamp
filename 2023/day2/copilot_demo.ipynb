{
 "cells": [
  {
   "cell_type": "code",
   "execution_count": 4,
   "metadata": {},
   "outputs": [
    {
     "name": "stdout",
     "output_type": "stream",
     "text": [
      "           DateTime  RF_mm\n",
      "0  01/09/1968 00:00    0.0\n",
      "1  01/09/1968 01:00    0.0\n",
      "2  01/09/1968 02:00    0.0\n",
      "3  01/09/1968 03:00    0.0\n",
      "4  01/09/1968 04:00    0.0\n"
     ]
    }
   ],
   "source": [
    "# I have a file formatted list this:\n",
    "#DateTime,RF_mm\n",
    "#01/09/1968 00:00,0\n",
    "#01/09/1968 01:00,0\n",
    "#01/09/1968 02:00,0\n",
    "#01/09/1968 03:00,0\n",
    "#01/09/1968 04:00,0\n",
    "#01/09/1968 05:00,0\n",
    "#01/09/1968 06:00,0\n",
    "#01/09/1968 07:00,0\n",
    "#01/09/1968 08:00,2.54\n",
    "# read this file using pandas\n",
    "# read it as a pandas series    \n"
   ]
  },
  {
   "cell_type": "code",
   "execution_count": null,
   "metadata": {},
   "outputs": [],
   "source": []
  }
 ],
 "metadata": {
  "kernelspec": {
   "display_name": "Python 3",
   "language": "python",
   "name": "python3"
  },
  "language_info": {
   "codemirror_mode": {
    "name": "ipython",
    "version": 3
   },
   "file_extension": ".py",
   "mimetype": "text/x-python",
   "name": "python",
   "nbconvert_exporter": "python",
   "pygments_lexer": "ipython3",
   "version": "3.9.10"
  },
  "orig_nbformat": 4
 },
 "nbformat": 4,
 "nbformat_minor": 2
}
