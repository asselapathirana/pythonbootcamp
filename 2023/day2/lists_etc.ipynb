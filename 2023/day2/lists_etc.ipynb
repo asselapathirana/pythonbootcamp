{
 "cells": [
  {
   "cell_type": "code",
   "execution_count": 1,
   "metadata": {},
   "outputs": [],
   "source": [
    "lst = [0, 1, 2, 3, 4, 5, 6, 7, 8]"
   ]
  },
  {
   "cell_type": "code",
   "execution_count": 2,
   "metadata": {},
   "outputs": [
    {
     "data": {
      "text/plain": [
       "list"
      ]
     },
     "execution_count": 2,
     "metadata": {},
     "output_type": "execute_result"
    }
   ],
   "source": [
    "list"
   ]
  },
  {
   "cell_type": "code",
   "execution_count": 3,
   "metadata": {},
   "outputs": [],
   "source": [
    "def sq(x):\n",
    "    return x*x"
   ]
  },
  {
   "cell_type": "code",
   "execution_count": 4,
   "metadata": {},
   "outputs": [
    {
     "data": {
      "text/plain": [
       "25"
      ]
     },
     "execution_count": 4,
     "metadata": {},
     "output_type": "execute_result"
    }
   ],
   "source": [
    "sq(5)"
   ]
  },
  {
   "cell_type": "code",
   "execution_count": 5,
   "metadata": {},
   "outputs": [
    {
     "data": {
      "text/plain": [
       "[0, 1, 4, 9, 16, 25, 36, 49, 64]"
      ]
     },
     "execution_count": 5,
     "metadata": {},
     "output_type": "execute_result"
    }
   ],
   "source": [
    "list(map(sq, lst))"
   ]
  },
  {
   "cell_type": "code",
   "execution_count": 6,
   "metadata": {},
   "outputs": [
    {
     "name": "stdout",
     "output_type": "stream",
     "text": [
      "[0, 1, 4, 9, 16, 25, 36, 49, 64]\n"
     ]
    }
   ],
   "source": [
    "sqr=[]\n",
    "for i in lst:\n",
    "    sqr.append(sq(i))\n",
    "print(sqr)"
   ]
  },
  {
   "cell_type": "code",
   "execution_count": 7,
   "metadata": {},
   "outputs": [],
   "source": [
    "l1=['a','b','c','d','e','f','g','h','i','j','k','l','m','n']"
   ]
  },
  {
   "cell_type": "code",
   "execution_count": 8,
   "metadata": {},
   "outputs": [],
   "source": [
    "l1.append('k')"
   ]
  },
  {
   "cell_type": "code",
   "execution_count": 9,
   "metadata": {},
   "outputs": [
    {
     "data": {
      "text/plain": [
       "['a', 'b', 'c', 'd', 'e', 'f', 'g', 'h', 'i', 'j', 'k', 'l', 'm', 'n', 'k']"
      ]
     },
     "execution_count": 9,
     "metadata": {},
     "output_type": "execute_result"
    }
   ],
   "source": [
    "l1"
   ]
  },
  {
   "cell_type": "code",
   "execution_count": 10,
   "metadata": {},
   "outputs": [
    {
     "data": {
      "text/plain": [
       "['a', 'b', 'c']"
      ]
     },
     "execution_count": 10,
     "metadata": {},
     "output_type": "execute_result"
    }
   ],
   "source": [
    "l1[0:3]"
   ]
  },
  {
   "cell_type": "code",
   "execution_count": 11,
   "metadata": {},
   "outputs": [
    {
     "name": "stdout",
     "output_type": "stream",
     "text": [
      "0 a\n",
      "1 b\n",
      "2 c\n",
      "3 d\n",
      "['a', 'b', 'c']\n"
     ]
    }
   ],
   "source": [
    "l2=[]\n",
    "for i, v in enumerate(l1):\n",
    "    print(i, v)\n",
    "    if i==3:\n",
    "        break\n",
    "    l2.append(v)\n",
    "\n",
    "print(l2)\n",
    "    \n",
    "    "
   ]
  },
  {
   "cell_type": "code",
   "execution_count": 12,
   "metadata": {},
   "outputs": [],
   "source": [
    "mylist=[1,2,3,4,5,6,7,8,9]"
   ]
  },
  {
   "cell_type": "code",
   "execution_count": 13,
   "metadata": {},
   "outputs": [
    {
     "data": {
      "text/plain": [
       "[1, 4, 9, 16, 25, 36, 49, 64, 81]"
      ]
     },
     "execution_count": 13,
     "metadata": {},
     "output_type": "execute_result"
    }
   ],
   "source": [
    "mysq=[x*x for x in mylist]\n",
    "mysq"
   ]
  },
  {
   "cell_type": "code",
   "execution_count": 14,
   "metadata": {},
   "outputs": [
    {
     "data": {
      "text/plain": [
       "[1, 4, 9, 16, 5, 6, 7, 8, 9]"
      ]
     },
     "execution_count": 14,
     "metadata": {},
     "output_type": "execute_result"
    }
   ],
   "source": [
    "# if value is less than 5 squre it. Otherwise don't do anything\n",
    "mysq=[x*x if x < 5 else x for x in mylist]\n",
    "mysq"
   ]
  },
  {
   "cell_type": "code",
   "execution_count": 15,
   "metadata": {},
   "outputs": [
    {
     "data": {
      "text/plain": [
       "9"
      ]
     },
     "execution_count": 15,
     "metadata": {},
     "output_type": "execute_result"
    }
   ],
   "source": [
    "# get the last value of mysq\n",
    "mysq[-1]"
   ]
  },
  {
   "cell_type": "code",
   "execution_count": 16,
   "metadata": {},
   "outputs": [
    {
     "data": {
      "text/plain": [
       "[7, 8, 9]"
      ]
     },
     "execution_count": 16,
     "metadata": {},
     "output_type": "execute_result"
    }
   ],
   "source": [
    "# get the last three values of mysq\n",
    "mysq[-3:]"
   ]
  },
  {
   "cell_type": "code",
   "execution_count": 17,
   "metadata": {},
   "outputs": [
    {
     "data": {
      "text/plain": [
       "[92,\n",
       " 49,\n",
       " 11,\n",
       " 45,\n",
       " 52,\n",
       " 5,\n",
       " 37,\n",
       " 31,\n",
       " 36,\n",
       " 83,\n",
       " 21,\n",
       " 85,\n",
       " 59,\n",
       " 97,\n",
       " 60,\n",
       " 28,\n",
       " 44,\n",
       " 74,\n",
       " 2,\n",
       " 30,\n",
       " 94,\n",
       " 29,\n",
       " 95,\n",
       " 22,\n",
       " 88,\n",
       " 33,\n",
       " 75,\n",
       " 6,\n",
       " 67,\n",
       " 98,\n",
       " 24,\n",
       " 26,\n",
       " 76,\n",
       " 89,\n",
       " 39,\n",
       " 55,\n",
       " 56,\n",
       " 64,\n",
       " 96,\n",
       " 46,\n",
       " 77,\n",
       " 90,\n",
       " 40,\n",
       " 91,\n",
       " 34,\n",
       " 62,\n",
       " 7,\n",
       " 17,\n",
       " 87,\n",
       " 1,\n",
       " 63,\n",
       " 41,\n",
       " 25,\n",
       " 84,\n",
       " 10,\n",
       " 14,\n",
       " 0,\n",
       " 48,\n",
       " 72,\n",
       " 50,\n",
       " 61,\n",
       " 38,\n",
       " 12,\n",
       " 66,\n",
       " 47,\n",
       " 70,\n",
       " 65,\n",
       " 13,\n",
       " 54,\n",
       " 23,\n",
       " 32,\n",
       " 43,\n",
       " 78,\n",
       " 51,\n",
       " 99,\n",
       " 8,\n",
       " 3,\n",
       " 15,\n",
       " 79,\n",
       " 42,\n",
       " 58,\n",
       " 69,\n",
       " 73,\n",
       " 4,\n",
       " 18,\n",
       " 86,\n",
       " 16,\n",
       " 93,\n",
       " 27,\n",
       " 9,\n",
       " 68,\n",
       " 81,\n",
       " 71,\n",
       " 19,\n",
       " 20,\n",
       " 80,\n",
       " 57,\n",
       " 35,\n",
       " 53,\n",
       " 82]"
      ]
     },
     "execution_count": 17,
     "metadata": {},
     "output_type": "execute_result"
    }
   ],
   "source": [
    "# make a list of 100 random numbers as randomlist\n",
    "import random\n",
    "randomlist = random.sample(range(0, 100), 100)\n",
    "randomlist"
   ]
  },
  {
   "cell_type": "code",
   "execution_count": null,
   "metadata": {},
   "outputs": [],
   "source": []
  }
 ],
 "metadata": {
  "kernelspec": {
   "display_name": "Python 3",
   "language": "python",
   "name": "python3"
  },
  "language_info": {
   "codemirror_mode": {
    "name": "ipython",
    "version": 3
   },
   "file_extension": ".py",
   "mimetype": "text/x-python",
   "name": "python",
   "nbconvert_exporter": "python",
   "pygments_lexer": "ipython3",
   "version": "3.9.10"
  },
  "orig_nbformat": 4
 },
 "nbformat": 4,
 "nbformat_minor": 2
}
