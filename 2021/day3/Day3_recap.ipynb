{
 "cells": [
  {
   "cell_type": "markdown",
   "id": "7b51af92",
   "metadata": {},
   "source": [
    "# Our revision on day 3"
   ]
  },
  {
   "cell_type": "code",
   "execution_count": 1,
   "id": "440ace67",
   "metadata": {},
   "outputs": [
    {
     "data": {
      "text/plain": [
       "2"
      ]
     },
     "execution_count": 1,
     "metadata": {},
     "output_type": "execute_result"
    }
   ],
   "source": [
    "1+1"
   ]
  },
  {
   "cell_type": "markdown",
   "id": "685a995a",
   "metadata": {},
   "source": [
    "## Basics of Python"
   ]
  },
  {
   "cell_type": "markdown",
   "id": "12c9bf6e",
   "metadata": {},
   "source": [
    "### Lists"
   ]
  },
  {
   "cell_type": "code",
   "execution_count": 2,
   "id": "51da2826",
   "metadata": {},
   "outputs": [],
   "source": [
    "names = ['John', 'Banda', 'Adam']"
   ]
  },
  {
   "cell_type": "code",
   "execution_count": 3,
   "id": "c2f224c3",
   "metadata": {},
   "outputs": [
    {
     "data": {
      "text/plain": [
       "'Adam'"
      ]
     },
     "execution_count": 3,
     "metadata": {},
     "output_type": "execute_result"
    }
   ],
   "source": [
    "names[-1]"
   ]
  },
  {
   "cell_type": "code",
   "execution_count": 4,
   "id": "114ebf8d",
   "metadata": {},
   "outputs": [
    {
     "data": {
      "text/plain": [
       "'John'"
      ]
     },
     "execution_count": 4,
     "metadata": {},
     "output_type": "execute_result"
    }
   ],
   "source": [
    "names[0]"
   ]
  },
  {
   "cell_type": "code",
   "execution_count": 6,
   "id": "521089a5",
   "metadata": {},
   "outputs": [
    {
     "data": {
      "text/plain": [
       "['John', 'Banda']"
      ]
     },
     "execution_count": 6,
     "metadata": {},
     "output_type": "execute_result"
    }
   ],
   "source": [
    "names[0:2]"
   ]
  },
  {
   "cell_type": "code",
   "execution_count": 8,
   "id": "4b53dfce",
   "metadata": {},
   "outputs": [
    {
     "data": {
      "text/plain": [
       "['Hello, John', 'Hello, Banda', 'Hello, Adam']"
      ]
     },
     "execution_count": 8,
     "metadata": {},
     "output_type": "execute_result"
    }
   ],
   "source": [
    "['Hello, '+ x1 for x1 in names]"
   ]
  },
  {
   "cell_type": "markdown",
   "id": "cdfd8801",
   "metadata": {},
   "source": [
    "We can uderstand this with a loop"
   ]
  },
  {
   "cell_type": "code",
   "execution_count": 9,
   "id": "8e7023b1",
   "metadata": {},
   "outputs": [
    {
     "data": {
      "text/plain": [
       "['Hello, John', 'Hello, Banda', 'Hello, Adam']"
      ]
     },
     "execution_count": 9,
     "metadata": {},
     "output_type": "execute_result"
    }
   ],
   "source": [
    "res=[]\n",
    "for x1 in names:\n",
    "    res.append('Hello, ' + x1)\n",
    "res\n",
    "    "
   ]
  },
  {
   "cell_type": "code",
   "execution_count": 10,
   "id": "cdb1051f",
   "metadata": {},
   "outputs": [],
   "source": [
    "xvals = range(100)"
   ]
  },
  {
   "cell_type": "markdown",
   "id": "cfa64a2b",
   "metadata": {},
   "source": [
    "We are calculating x**2+6*x+2 as yvals"
   ]
  },
  {
   "cell_type": "code",
   "execution_count": 11,
   "id": "5fe70cb5",
   "metadata": {},
   "outputs": [],
   "source": [
    "yvals = [x**2+6*x+2 for x in xvals]"
   ]
  },
  {
   "cell_type": "markdown",
   "id": "c2e3b5b0",
   "metadata": {},
   "source": [
    "Now let's plot the result"
   ]
  },
  {
   "cell_type": "code",
   "execution_count": 17,
   "id": "ddc64741",
   "metadata": {},
   "outputs": [],
   "source": [
    "import matplotlib.pyplot as plt"
   ]
  },
  {
   "cell_type": "code",
   "execution_count": 18,
   "id": "f162c8f2",
   "metadata": {},
   "outputs": [
    {
     "data": {
      "text/plain": [
       "[<matplotlib.lines.Line2D at 0x1be84fdd460>]"
      ]
     },
     "execution_count": 18,
     "metadata": {},
     "output_type": "execute_result"
    },
    {
     "data": {
      "image/png": "[encoded data removed]",
      "text/plain": [
       "<Figure size 432x288 with 1 Axes>"
      ]
     },
     "metadata": {
      "needs_background": "light"
     },
     "output_type": "display_data"
    }
   ],
   "source": [
    "plt.plot(xvals,yvals)"
   ]
  },
  {
   "cell_type": "code",
   "execution_count": 19,
   "id": "00278ac6",
   "metadata": {},
   "outputs": [],
   "source": [
    "import pandas as pd"
   ]
  },
  {
   "cell_type": "code",
   "execution_count": 36,
   "id": "888831dd",
   "metadata": {},
   "outputs": [],
   "source": [
    "df = pd.DataFrame({\"xv\": xvals, \"yv\": yvals})"
   ]
  },
  {
   "cell_type": "code",
   "execution_count": 37,
   "id": "002b9016",
   "metadata": {},
   "outputs": [
    {
     "data": {
      "text/html": [
       "<div>\n",
       "<style scoped>\n",
       "    .dataframe tbody tr th:only-of-type {\n",
       "        vertical-align: middle;\n",
       "    }\n",
       "\n",
       "    .dataframe tbody tr th {\n",
       "        vertical-align: top;\n",
       "    }\n",
       "\n",
       "    .dataframe thead th {\n",
       "        text-align: right;\n",
       "    }\n",
       "</style>\n",
       "<table border=\"1\" class=\"dataframe\">\n",
       "  <thead>\n",
       "    <tr style=\"text-align: right;\">\n",
       "      <th></th>\n",
       "      <th>xv</th>\n",
       "      <th>yv</th>\n",
       "    </tr>\n",
       "  </thead>\n",
       "  <tbody>\n",
       "    <tr>\n",
       "      <th>0</th>\n",
       "      <td>0</td>\n",
       "      <td>2</td>\n",
       "    </tr>\n",
       "    <tr>\n",
       "      <th>1</th>\n",
       "      <td>1</td>\n",
       "      <td>9</td>\n",
       "    </tr>\n",
       "    <tr>\n",
       "      <th>2</th>\n",
       "      <td>2</td>\n",
       "      <td>18</td>\n",
       "    </tr>\n",
       "    <tr>\n",
       "      <th>3</th>\n",
       "      <td>3</td>\n",
       "      <td>29</td>\n",
       "    </tr>\n",
       "    <tr>\n",
       "      <th>4</th>\n",
       "      <td>4</td>\n",
       "      <td>42</td>\n",
       "    </tr>\n",
       "    <tr>\n",
       "      <th>...</th>\n",
       "      <td>...</td>\n",
       "      <td>...</td>\n",
       "    </tr>\n",
       "    <tr>\n",
       "      <th>95</th>\n",
       "      <td>95</td>\n",
       "      <td>9597</td>\n",
       "    </tr>\n",
       "    <tr>\n",
       "      <th>96</th>\n",
       "      <td>96</td>\n",
       "      <td>9794</td>\n",
       "    </tr>\n",
       "    <tr>\n",
       "      <th>97</th>\n",
       "      <td>97</td>\n",
       "      <td>9993</td>\n",
       "    </tr>\n",
       "    <tr>\n",
       "      <th>98</th>\n",
       "      <td>98</td>\n",
       "      <td>10194</td>\n",
       "    </tr>\n",
       "    <tr>\n",
       "      <th>99</th>\n",
       "      <td>99</td>\n",
       "      <td>10397</td>\n",
       "    </tr>\n",
       "  </tbody>\n",
       "</table>\n",
       "<p>100 rows × 2 columns</p>\n",
       "</div>"
      ],
      "text/plain": [
       "    xv     yv\n",
       "0    0      2\n",
       "1    1      9\n",
       "2    2     18\n",
       "3    3     29\n",
       "4    4     42\n",
       "..  ..    ...\n",
       "95  95   9597\n",
       "96  96   9794\n",
       "97  97   9993\n",
       "98  98  10194\n",
       "99  99  10397\n",
       "\n",
       "[100 rows x 2 columns]"
      ]
     },
     "execution_count": 37,
     "metadata": {},
     "output_type": "execute_result"
    }
   ],
   "source": [
    "df"
   ]
  },
  {
   "cell_type": "code",
   "execution_count": 27,
   "id": "280982f3",
   "metadata": {},
   "outputs": [],
   "source": [
    "import seaborn as sns"
   ]
  },
  {
   "cell_type": "code",
   "execution_count": 38,
   "id": "68cb49fe",
   "metadata": {},
   "outputs": [
    {
     "data": {
      "text/plain": [
       "<AxesSubplot:xlabel='xv', ylabel='yv'>"
      ]
     },
     "execution_count": 38,
     "metadata": {},
     "output_type": "execute_result"
    },
    {
     "data": {
      "image/png": "[encoded data removed]",
      "text/plain": [
       "<Figure size 432x288 with 1 Axes>"
      ]
     },
     "metadata": {
      "needs_background": "light"
     },
     "output_type": "display_data"
    }
   ],
   "source": [
    "sns.lineplot(data=df, x='xv', y='yv')"
   ]
  },
  {
   "cell_type": "markdown",
   "id": "560fe23d",
   "metadata": {},
   "source": [
    "### Now let's plot a standard dataset (one that comes with the library)"
   ]
  },
  {
   "cell_type": "code",
   "execution_count": 39,
   "id": "00edcad4",
   "metadata": {},
   "outputs": [],
   "source": [
    "tips = sns.load_dataset(\"tips\")"
   ]
  },
  {
   "cell_type": "code",
   "execution_count": 40,
   "id": "a6c81bad",
   "metadata": {},
   "outputs": [
    {
     "data": {
      "text/html": [
       "<div>\n",
       "<style scoped>\n",
       "    .dataframe tbody tr th:only-of-type {\n",
       "        vertical-align: middle;\n",
       "    }\n",
       "\n",
       "    .dataframe tbody tr th {\n",
       "        vertical-align: top;\n",
       "    }\n",
       "\n",
       "    .dataframe thead th {\n",
       "        text-align: right;\n",
       "    }\n",
       "</style>\n",
       "<table border=\"1\" class=\"dataframe\">\n",
       "  <thead>\n",
       "    <tr style=\"text-align: right;\">\n",
       "      <th></th>\n",
       "      <th>total_bill</th>\n",
       "      <th>tip</th>\n",
       "      <th>sex</th>\n",
       "      <th>smoker</th>\n",
       "      <th>day</th>\n",
       "      <th>time</th>\n",
       "      <th>size</th>\n",
       "    </tr>\n",
       "  </thead>\n",
       "  <tbody>\n",
       "    <tr>\n",
       "      <th>0</th>\n",
       "      <td>16.99</td>\n",
       "      <td>1.01</td>\n",
       "      <td>Female</td>\n",
       "      <td>No</td>\n",
       "      <td>Sun</td>\n",
       "      <td>Dinner</td>\n",
       "      <td>2</td>\n",
       "    </tr>\n",
       "    <tr>\n",
       "      <th>1</th>\n",
       "      <td>10.34</td>\n",
       "      <td>1.66</td>\n",
       "      <td>Male</td>\n",
       "      <td>No</td>\n",
       "      <td>Sun</td>\n",
       "      <td>Dinner</td>\n",
       "      <td>3</td>\n",
       "    </tr>\n",
       "    <tr>\n",
       "      <th>2</th>\n",
       "      <td>21.01</td>\n",
       "      <td>3.50</td>\n",
       "      <td>Male</td>\n",
       "      <td>No</td>\n",
       "      <td>Sun</td>\n",
       "      <td>Dinner</td>\n",
       "      <td>3</td>\n",
       "    </tr>\n",
       "    <tr>\n",
       "      <th>3</th>\n",
       "      <td>23.68</td>\n",
       "      <td>3.31</td>\n",
       "      <td>Male</td>\n",
       "      <td>No</td>\n",
       "      <td>Sun</td>\n",
       "      <td>Dinner</td>\n",
       "      <td>2</td>\n",
       "    </tr>\n",
       "    <tr>\n",
       "      <th>4</th>\n",
       "      <td>24.59</td>\n",
       "      <td>3.61</td>\n",
       "      <td>Female</td>\n",
       "      <td>No</td>\n",
       "      <td>Sun</td>\n",
       "      <td>Dinner</td>\n",
       "      <td>4</td>\n",
       "    </tr>\n",
       "    <tr>\n",
       "      <th>...</th>\n",
       "      <td>...</td>\n",
       "      <td>...</td>\n",
       "      <td>...</td>\n",
       "      <td>...</td>\n",
       "      <td>...</td>\n",
       "      <td>...</td>\n",
       "      <td>...</td>\n",
       "    </tr>\n",
       "    <tr>\n",
       "      <th>239</th>\n",
       "      <td>29.03</td>\n",
       "      <td>5.92</td>\n",
       "      <td>Male</td>\n",
       "      <td>No</td>\n",
       "      <td>Sat</td>\n",
       "      <td>Dinner</td>\n",
       "      <td>3</td>\n",
       "    </tr>\n",
       "    <tr>\n",
       "      <th>240</th>\n",
       "      <td>27.18</td>\n",
       "      <td>2.00</td>\n",
       "      <td>Female</td>\n",
       "      <td>Yes</td>\n",
       "      <td>Sat</td>\n",
       "      <td>Dinner</td>\n",
       "      <td>2</td>\n",
       "    </tr>\n",
       "    <tr>\n",
       "      <th>241</th>\n",
       "      <td>22.67</td>\n",
       "      <td>2.00</td>\n",
       "      <td>Male</td>\n",
       "      <td>Yes</td>\n",
       "      <td>Sat</td>\n",
       "      <td>Dinner</td>\n",
       "      <td>2</td>\n",
       "    </tr>\n",
       "    <tr>\n",
       "      <th>242</th>\n",
       "      <td>17.82</td>\n",
       "      <td>1.75</td>\n",
       "      <td>Male</td>\n",
       "      <td>No</td>\n",
       "      <td>Sat</td>\n",
       "      <td>Dinner</td>\n",
       "      <td>2</td>\n",
       "    </tr>\n",
       "    <tr>\n",
       "      <th>243</th>\n",
       "      <td>18.78</td>\n",
       "      <td>3.00</td>\n",
       "      <td>Female</td>\n",
       "      <td>No</td>\n",
       "      <td>Thur</td>\n",
       "      <td>Dinner</td>\n",
       "      <td>2</td>\n",
       "    </tr>\n",
       "  </tbody>\n",
       "</table>\n",
       "<p>244 rows × 7 columns</p>\n",
       "</div>"
      ],
      "text/plain": [
       "     total_bill   tip     sex smoker   day    time  size\n",
       "0         16.99  1.01  Female     No   Sun  Dinner     2\n",
       "1         10.34  1.66    Male     No   Sun  Dinner     3\n",
       "2         21.01  3.50    Male     No   Sun  Dinner     3\n",
       "3         23.68  3.31    Male     No   Sun  Dinner     2\n",
       "4         24.59  3.61  Female     No   Sun  Dinner     4\n",
       "..          ...   ...     ...    ...   ...     ...   ...\n",
       "239       29.03  5.92    Male     No   Sat  Dinner     3\n",
       "240       27.18  2.00  Female    Yes   Sat  Dinner     2\n",
       "241       22.67  2.00    Male    Yes   Sat  Dinner     2\n",
       "242       17.82  1.75    Male     No   Sat  Dinner     2\n",
       "243       18.78  3.00  Female     No  Thur  Dinner     2\n",
       "\n",
       "[244 rows x 7 columns]"
      ]
     },
     "execution_count": 40,
     "metadata": {},
     "output_type": "execute_result"
    }
   ],
   "source": [
    "tips"
   ]
  },
  {
   "cell_type": "code",
   "execution_count": 41,
   "id": "23ac7e37",
   "metadata": {},
   "outputs": [
    {
     "data": {
      "image/png": "[encoded data removed]",
      "text/plain": [
       "<Figure size 432x288 with 1 Axes>"
      ]
     },
     "metadata": {
      "needs_background": "light"
     },
     "output_type": "display_data"
    }
   ],
   "source": [
    "sns.regplot(x=\"total_bill\", y=\"tip\", data=tips);"
   ]
  },
  {
   "cell_type": "markdown",
   "id": "3f05204b",
   "metadata": {},
   "source": [
    "### Dictonaries"
   ]
  },
  {
   "cell_type": "code",
   "execution_count": 43,
   "id": "e8264b7f",
   "metadata": {},
   "outputs": [],
   "source": [
    "names = ['John', 'Banda', 'Adam']"
   ]
  },
  {
   "cell_type": "code",
   "execution_count": 44,
   "id": "502e91ae",
   "metadata": {},
   "outputs": [
    {
     "data": {
      "text/plain": [
       "'John'"
      ]
     },
     "execution_count": 44,
     "metadata": {},
     "output_type": "execute_result"
    }
   ],
   "source": [
    "names[0]"
   ]
  },
  {
   "cell_type": "code",
   "execution_count": 46,
   "id": "51f71d1a",
   "metadata": {},
   "outputs": [],
   "source": [
    "ages={'John':55, 'Banda':23, 'Adam': 44}"
   ]
  },
  {
   "cell_type": "code",
   "execution_count": 47,
   "id": "46f95985",
   "metadata": {},
   "outputs": [
    {
     "data": {
      "text/plain": [
       "55"
      ]
     },
     "execution_count": 47,
     "metadata": {},
     "output_type": "execute_result"
    }
   ],
   "source": [
    "ages['John']"
   ]
  },
  {
   "cell_type": "code",
   "execution_count": 48,
   "id": "b1319b7b",
   "metadata": {},
   "outputs": [
    {
     "data": {
      "text/plain": [
       "44"
      ]
     },
     "execution_count": 48,
     "metadata": {},
     "output_type": "execute_result"
    }
   ],
   "source": [
    "ages['Adam']"
   ]
  },
  {
   "cell_type": "code",
   "execution_count": 49,
   "id": "60987290",
   "metadata": {},
   "outputs": [],
   "source": [
    "people={'John':['M', 55, 'Delft'], 'Banda':['M', 35, 'Delft'], 'Adam': ['M', 25, 'Delft']}"
   ]
  },
  {
   "cell_type": "code",
   "execution_count": 50,
   "id": "f84b2c18",
   "metadata": {},
   "outputs": [
    {
     "data": {
      "text/plain": [
       "['M', 55, 'Delft']"
      ]
     },
     "execution_count": 50,
     "metadata": {},
     "output_type": "execute_result"
    }
   ],
   "source": [
    "people['John']"
   ]
  },
  {
   "cell_type": "code",
   "execution_count": 51,
   "id": "6f9a18c0",
   "metadata": {},
   "outputs": [],
   "source": [
    "people={'John':{'Sex':'M', 'Age': 55, 'Place': 'Delft'}, 'Banda':{'Sex':'M', 'Age': 35, 'Place': 'Delft'}, 'Adam': {'Sex':'M', 'Age': 45, 'Place': 'Hague'}}"
   ]
  },
  {
   "cell_type": "code",
   "execution_count": 52,
   "id": "2d5ae10a",
   "metadata": {},
   "outputs": [
    {
     "data": {
      "text/plain": [
       "{'Sex': 'M', 'Age': 55, 'Place': 'Delft'}"
      ]
     },
     "execution_count": 52,
     "metadata": {},
     "output_type": "execute_result"
    }
   ],
   "source": [
    "people['John']"
   ]
  },
  {
   "cell_type": "code",
   "execution_count": 53,
   "id": "1fb6d489",
   "metadata": {},
   "outputs": [
    {
     "data": {
      "text/plain": [
       "'M'"
      ]
     },
     "execution_count": 53,
     "metadata": {},
     "output_type": "execute_result"
    }
   ],
   "source": [
    "people['John']['Sex']"
   ]
  },
  {
   "cell_type": "code",
   "execution_count": 54,
   "id": "df814f28",
   "metadata": {},
   "outputs": [],
   "source": [
    "import wntr"
   ]
  },
  {
   "cell_type": "code",
   "execution_count": 55,
   "id": "ec850fbf",
   "metadata": {},
   "outputs": [
    {
     "data": {
      "image/png": "[encoded data removed]",
      "text/plain": [
       "<Figure size 432x288 with 1 Axes>"
      ]
     },
     "metadata": {},
     "output_type": "display_data"
    }
   ],
   "source": [
    "wn = wntr.network.WaterNetworkModel()\n",
    "wn.add_pattern('pat1', [1])\n",
    "wn.add_pattern('pat2', [1,2,3,4,5,6,7,8,9,10])\n",
    "wn.add_junction('node1', base_demand=0.01, demand_pattern='pat1', elevation=100,\n",
    "     coordinates=(1,2))\n",
    "wn.add_junction('node2', base_demand=0.02, demand_pattern='pat2', elevation=50,\n",
    "    coordinates=(1,3))\n",
    "wn.add_pipe('pipe1', 'node1', 'node2', length=304.8, diameter=0.3048,\n",
    "   roughness=100, minor_loss=0.0, initial_status='OPEN')\n",
    "wn.add_reservoir('res', base_head=125, head_pattern='pat1', coordinates=(0,2))\n",
    "wn.add_pipe('pipe2', 'node1', 'res', length=100, diameter=0.3048, roughness=100,\n",
    "     minor_loss=0.0, initial_status='OPEN')\n",
    "ax = wntr.graphics.plot_network(wn)"
   ]
  },
  {
   "cell_type": "code",
   "execution_count": 61,
   "id": "498ae5d3",
   "metadata": {},
   "outputs": [],
   "source": [
    "wn.write_inpfile(\"test.inp\")\n",
    "wn = wntr.network.WaterNetworkModel('Net3LPS.inp') \n",
    "wn.options.hydraulic.demand_model = 'DD'\n",
    "sim = wntr.sim.EpanetSimulator(wn)\n",
    "results=sim.run_sim()"
   ]
  },
  {
   "cell_type": "markdown",
   "id": "0eeeb39f",
   "metadata": {},
   "source": [
    "### Results are returned as a dictionary\n",
    "\n",
    "Let's get the keys"
   ]
  },
  {
   "cell_type": "code",
   "execution_count": 70,
   "id": "912341e6",
   "metadata": {},
   "outputs": [
    {
     "data": {
      "text/plain": [
       "dict_keys(['demand', 'head', 'pressure', 'quality'])"
      ]
     },
     "execution_count": 70,
     "metadata": {},
     "output_type": "execute_result"
    }
   ],
   "source": [
    "results.node.keys()"
   ]
  },
  {
   "cell_type": "code",
   "execution_count": 69,
   "id": "b5b05789",
   "metadata": {},
   "outputs": [
    {
     "data": {
      "text/html": [
       "<div>\n",
       "<style scoped>\n",
       "    .dataframe tbody tr th:only-of-type {\n",
       "        vertical-align: middle;\n",
       "    }\n",
       "\n",
       "    .dataframe tbody tr th {\n",
       "        vertical-align: top;\n",
       "    }\n",
       "\n",
       "    .dataframe thead th {\n",
       "        text-align: right;\n",
       "    }\n",
       "</style>\n",
       "<table border=\"1\" class=\"dataframe\">\n",
       "  <thead>\n",
       "    <tr style=\"text-align: right;\">\n",
       "      <th>name</th>\n",
       "      <th>10</th>\n",
       "      <th>15</th>\n",
       "      <th>20</th>\n",
       "      <th>35</th>\n",
       "      <th>40</th>\n",
       "      <th>50</th>\n",
       "      <th>60</th>\n",
       "      <th>601</th>\n",
       "      <th>61</th>\n",
       "      <th>101</th>\n",
       "      <th>...</th>\n",
       "      <th>267</th>\n",
       "      <th>269</th>\n",
       "      <th>271</th>\n",
       "      <th>273</th>\n",
       "      <th>275</th>\n",
       "      <th>River</th>\n",
       "      <th>Lake</th>\n",
       "      <th>1</th>\n",
       "      <th>2</th>\n",
       "      <th>3</th>\n",
       "    </tr>\n",
       "  </thead>\n",
       "  <tbody>\n",
       "    <tr>\n",
       "      <th>0</th>\n",
       "      <td>0.0</td>\n",
       "      <td>0.039116</td>\n",
       "      <td>0.0</td>\n",
       "      <td>0.103279</td>\n",
       "      <td>0.0</td>\n",
       "      <td>0.0</td>\n",
       "      <td>0.0</td>\n",
       "      <td>0.0</td>\n",
       "      <td>0.0</td>\n",
       "      <td>0.016059</td>\n",
       "      <td>...</td>\n",
       "      <td>0.0</td>\n",
       "      <td>0.0</td>\n",
       "      <td>0.0</td>\n",
       "      <td>0.0</td>\n",
       "      <td>0.0</td>\n",
       "      <td>-0.830136</td>\n",
       "      <td>0.000000</td>\n",
       "      <td>0.029043</td>\n",
       "      <td>-0.020769</td>\n",
       "      <td>0.141721</td>\n",
       "    </tr>\n",
       "    <tr>\n",
       "      <th>3600</th>\n",
       "      <td>0.0</td>\n",
       "      <td>0.039116</td>\n",
       "      <td>0.0</td>\n",
       "      <td>0.107632</td>\n",
       "      <td>0.0</td>\n",
       "      <td>0.0</td>\n",
       "      <td>0.0</td>\n",
       "      <td>0.0</td>\n",
       "      <td>0.0</td>\n",
       "      <td>0.023249</td>\n",
       "      <td>...</td>\n",
       "      <td>0.0</td>\n",
       "      <td>0.0</td>\n",
       "      <td>0.0</td>\n",
       "      <td>0.0</td>\n",
       "      <td>0.0</td>\n",
       "      <td>-0.824089</td>\n",
       "      <td>-0.216728</td>\n",
       "      <td>0.062875</td>\n",
       "      <td>-0.019413</td>\n",
       "      <td>0.191673</td>\n",
       "    </tr>\n",
       "    <tr>\n",
       "      <th>7200</th>\n",
       "      <td>0.0</td>\n",
       "      <td>0.039116</td>\n",
       "      <td>0.0</td>\n",
       "      <td>0.108452</td>\n",
       "      <td>0.0</td>\n",
       "      <td>0.0</td>\n",
       "      <td>0.0</td>\n",
       "      <td>0.0</td>\n",
       "      <td>0.0</td>\n",
       "      <td>0.017497</td>\n",
       "      <td>...</td>\n",
       "      <td>0.0</td>\n",
       "      <td>0.0</td>\n",
       "      <td>0.0</td>\n",
       "      <td>0.0</td>\n",
       "      <td>0.0</td>\n",
       "      <td>-0.818417</td>\n",
       "      <td>-0.210107</td>\n",
       "      <td>0.078844</td>\n",
       "      <td>0.008373</td>\n",
       "      <td>0.228372</td>\n",
       "    </tr>\n",
       "    <tr>\n",
       "      <th>10800</th>\n",
       "      <td>0.0</td>\n",
       "      <td>0.039116</td>\n",
       "      <td>0.0</td>\n",
       "      <td>0.108452</td>\n",
       "      <td>0.0</td>\n",
       "      <td>0.0</td>\n",
       "      <td>0.0</td>\n",
       "      <td>0.0</td>\n",
       "      <td>0.0</td>\n",
       "      <td>0.017257</td>\n",
       "      <td>...</td>\n",
       "      <td>0.0</td>\n",
       "      <td>0.0</td>\n",
       "      <td>0.0</td>\n",
       "      <td>0.0</td>\n",
       "      <td>0.0</td>\n",
       "      <td>-0.815752</td>\n",
       "      <td>-0.208697</td>\n",
       "      <td>0.074248</td>\n",
       "      <td>0.010390</td>\n",
       "      <td>0.226244</td>\n",
       "    </tr>\n",
       "    <tr>\n",
       "      <th>14400</th>\n",
       "      <td>0.0</td>\n",
       "      <td>0.039116</td>\n",
       "      <td>0.0</td>\n",
       "      <td>0.112995</td>\n",
       "      <td>0.0</td>\n",
       "      <td>0.0</td>\n",
       "      <td>0.0</td>\n",
       "      <td>0.0</td>\n",
       "      <td>0.0</td>\n",
       "      <td>0.009108</td>\n",
       "      <td>...</td>\n",
       "      <td>0.0</td>\n",
       "      <td>0.0</td>\n",
       "      <td>0.0</td>\n",
       "      <td>0.0</td>\n",
       "      <td>0.0</td>\n",
       "      <td>-0.806913</td>\n",
       "      <td>-0.198094</td>\n",
       "      <td>0.100969</td>\n",
       "      <td>0.035917</td>\n",
       "      <td>0.283996</td>\n",
       "    </tr>\n",
       "    <tr>\n",
       "      <th>18000</th>\n",
       "      <td>0.0</td>\n",
       "      <td>0.022712</td>\n",
       "      <td>0.0</td>\n",
       "      <td>0.114761</td>\n",
       "      <td>0.0</td>\n",
       "      <td>0.0</td>\n",
       "      <td>0.0</td>\n",
       "      <td>0.0</td>\n",
       "      <td>0.0</td>\n",
       "      <td>0.011025</td>\n",
       "      <td>...</td>\n",
       "      <td>0.0</td>\n",
       "      <td>0.0</td>\n",
       "      <td>0.0</td>\n",
       "      <td>0.0</td>\n",
       "      <td>0.0</td>\n",
       "      <td>-0.489026</td>\n",
       "      <td>-0.206931</td>\n",
       "      <td>0.030009</td>\n",
       "      <td>0.015657</td>\n",
       "      <td>-0.030090</td>\n",
       "    </tr>\n",
       "    <tr>\n",
       "      <th>21600</th>\n",
       "      <td>0.0</td>\n",
       "      <td>0.022712</td>\n",
       "      <td>0.0</td>\n",
       "      <td>0.112111</td>\n",
       "      <td>0.0</td>\n",
       "      <td>0.0</td>\n",
       "      <td>0.0</td>\n",
       "      <td>0.0</td>\n",
       "      <td>0.0</td>\n",
       "      <td>0.010186</td>\n",
       "      <td>...</td>\n",
       "      <td>0.0</td>\n",
       "      <td>0.0</td>\n",
       "      <td>0.0</td>\n",
       "      <td>0.0</td>\n",
       "      <td>0.0</td>\n",
       "      <td>-0.484720</td>\n",
       "      <td>-0.205678</td>\n",
       "      <td>0.032103</td>\n",
       "      <td>0.016714</td>\n",
       "      <td>0.054851</td>\n",
       "    </tr>\n",
       "    <tr>\n",
       "      <th>25200</th>\n",
       "      <td>0.0</td>\n",
       "      <td>0.000000</td>\n",
       "      <td>0.0</td>\n",
       "      <td>0.116212</td>\n",
       "      <td>0.0</td>\n",
       "      <td>0.0</td>\n",
       "      <td>0.0</td>\n",
       "      <td>0.0</td>\n",
       "      <td>0.0</td>\n",
       "      <td>0.012823</td>\n",
       "      <td>...</td>\n",
       "      <td>0.0</td>\n",
       "      <td>0.0</td>\n",
       "      <td>0.0</td>\n",
       "      <td>0.0</td>\n",
       "      <td>0.0</td>\n",
       "      <td>-0.483577</td>\n",
       "      <td>-0.207558</td>\n",
       "      <td>0.016952</td>\n",
       "      <td>0.007903</td>\n",
       "      <td>0.053266</td>\n",
       "    </tr>\n",
       "    <tr>\n",
       "      <th>28800</th>\n",
       "      <td>0.0</td>\n",
       "      <td>0.000000</td>\n",
       "      <td>0.0</td>\n",
       "      <td>0.114509</td>\n",
       "      <td>0.0</td>\n",
       "      <td>0.0</td>\n",
       "      <td>0.0</td>\n",
       "      <td>0.0</td>\n",
       "      <td>0.0</td>\n",
       "      <td>0.011505</td>\n",
       "      <td>...</td>\n",
       "      <td>0.0</td>\n",
       "      <td>0.0</td>\n",
       "      <td>0.0</td>\n",
       "      <td>0.0</td>\n",
       "      <td>0.0</td>\n",
       "      <td>-0.481467</td>\n",
       "      <td>-0.206037</td>\n",
       "      <td>0.022452</td>\n",
       "      <td>0.010767</td>\n",
       "      <td>0.062234</td>\n",
       "    </tr>\n",
       "    <tr>\n",
       "      <th>32400</th>\n",
       "      <td>0.0</td>\n",
       "      <td>0.000000</td>\n",
       "      <td>0.0</td>\n",
       "      <td>0.115140</td>\n",
       "      <td>0.0</td>\n",
       "      <td>0.0</td>\n",
       "      <td>0.0</td>\n",
       "      <td>0.0</td>\n",
       "      <td>0.0</td>\n",
       "      <td>0.013182</td>\n",
       "      <td>...</td>\n",
       "      <td>0.0</td>\n",
       "      <td>0.0</td>\n",
       "      <td>0.0</td>\n",
       "      <td>0.0</td>\n",
       "      <td>0.0</td>\n",
       "      <td>-0.486874</td>\n",
       "      <td>-0.207639</td>\n",
       "      <td>0.001394</td>\n",
       "      <td>0.004600</td>\n",
       "      <td>-0.048812</td>\n",
       "    </tr>\n",
       "    <tr>\n",
       "      <th>36000</th>\n",
       "      <td>0.0</td>\n",
       "      <td>0.000000</td>\n",
       "      <td>0.0</td>\n",
       "      <td>0.117095</td>\n",
       "      <td>0.0</td>\n",
       "      <td>0.0</td>\n",
       "      <td>0.0</td>\n",
       "      <td>0.0</td>\n",
       "      <td>0.0</td>\n",
       "      <td>0.012943</td>\n",
       "      <td>...</td>\n",
       "      <td>0.0</td>\n",
       "      <td>0.0</td>\n",
       "      <td>0.0</td>\n",
       "      <td>0.0</td>\n",
       "      <td>0.0</td>\n",
       "      <td>-0.487772</td>\n",
       "      <td>-0.207563</td>\n",
       "      <td>-0.000861</td>\n",
       "      <td>0.004555</td>\n",
       "      <td>-0.038689</td>\n",
       "    </tr>\n",
       "    <tr>\n",
       "      <th>39600</th>\n",
       "      <td>0.0</td>\n",
       "      <td>0.022712</td>\n",
       "      <td>0.0</td>\n",
       "      <td>0.113625</td>\n",
       "      <td>0.0</td>\n",
       "      <td>0.0</td>\n",
       "      <td>0.0</td>\n",
       "      <td>0.0</td>\n",
       "      <td>0.0</td>\n",
       "      <td>0.014261</td>\n",
       "      <td>...</td>\n",
       "      <td>0.0</td>\n",
       "      <td>0.0</td>\n",
       "      <td>0.0</td>\n",
       "      <td>0.0</td>\n",
       "      <td>0.0</td>\n",
       "      <td>-0.489577</td>\n",
       "      <td>-0.208925</td>\n",
       "      <td>-0.011947</td>\n",
       "      <td>-0.000931</td>\n",
       "      <td>-0.059535</td>\n",
       "    </tr>\n",
       "    <tr>\n",
       "      <th>43200</th>\n",
       "      <td>0.0</td>\n",
       "      <td>0.022712</td>\n",
       "      <td>0.0</td>\n",
       "      <td>0.114761</td>\n",
       "      <td>0.0</td>\n",
       "      <td>0.0</td>\n",
       "      <td>0.0</td>\n",
       "      <td>0.0</td>\n",
       "      <td>0.0</td>\n",
       "      <td>0.013901</td>\n",
       "      <td>...</td>\n",
       "      <td>0.0</td>\n",
       "      <td>0.0</td>\n",
       "      <td>0.0</td>\n",
       "      <td>0.0</td>\n",
       "      <td>0.0</td>\n",
       "      <td>-0.490919</td>\n",
       "      <td>-0.208892</td>\n",
       "      <td>-0.008448</td>\n",
       "      <td>0.000215</td>\n",
       "      <td>-0.053064</td>\n",
       "    </tr>\n",
       "    <tr>\n",
       "      <th>46800</th>\n",
       "      <td>0.0</td>\n",
       "      <td>0.022712</td>\n",
       "      <td>0.0</td>\n",
       "      <td>0.109335</td>\n",
       "      <td>0.0</td>\n",
       "      <td>0.0</td>\n",
       "      <td>0.0</td>\n",
       "      <td>0.0</td>\n",
       "      <td>0.0</td>\n",
       "      <td>0.012943</td>\n",
       "      <td>...</td>\n",
       "      <td>0.0</td>\n",
       "      <td>0.0</td>\n",
       "      <td>0.0</td>\n",
       "      <td>0.0</td>\n",
       "      <td>0.0</td>\n",
       "      <td>-0.491979</td>\n",
       "      <td>-0.208324</td>\n",
       "      <td>0.000694</td>\n",
       "      <td>0.002278</td>\n",
       "      <td>-0.042589</td>\n",
       "    </tr>\n",
       "    <tr>\n",
       "      <th>50400</th>\n",
       "      <td>0.0</td>\n",
       "      <td>0.022712</td>\n",
       "      <td>0.0</td>\n",
       "      <td>0.104982</td>\n",
       "      <td>0.0</td>\n",
       "      <td>0.0</td>\n",
       "      <td>0.0</td>\n",
       "      <td>0.0</td>\n",
       "      <td>0.0</td>\n",
       "      <td>0.011505</td>\n",
       "      <td>...</td>\n",
       "      <td>0.0</td>\n",
       "      <td>0.0</td>\n",
       "      <td>0.0</td>\n",
       "      <td>0.0</td>\n",
       "      <td>0.0</td>\n",
       "      <td>-0.492698</td>\n",
       "      <td>-0.207229</td>\n",
       "      <td>0.010498</td>\n",
       "      <td>0.006253</td>\n",
       "      <td>-0.024771</td>\n",
       "    </tr>\n",
       "    <tr>\n",
       "      <th>54000</th>\n",
       "      <td>0.0</td>\n",
       "      <td>0.022712</td>\n",
       "      <td>0.0</td>\n",
       "      <td>0.102206</td>\n",
       "      <td>0.0</td>\n",
       "      <td>0.0</td>\n",
       "      <td>0.0</td>\n",
       "      <td>0.0</td>\n",
       "      <td>0.0</td>\n",
       "      <td>0.009947</td>\n",
       "      <td>...</td>\n",
       "      <td>0.0</td>\n",
       "      <td>0.0</td>\n",
       "      <td>0.0</td>\n",
       "      <td>0.0</td>\n",
       "      <td>0.0</td>\n",
       "      <td>-0.500320</td>\n",
       "      <td>0.000000</td>\n",
       "      <td>-0.050989</td>\n",
       "      <td>-0.001699</td>\n",
       "      <td>-0.126216</td>\n",
       "    </tr>\n",
       "    <tr>\n",
       "      <th>57600</th>\n",
       "      <td>0.0</td>\n",
       "      <td>0.000000</td>\n",
       "      <td>0.0</td>\n",
       "      <td>0.101764</td>\n",
       "      <td>0.0</td>\n",
       "      <td>0.0</td>\n",
       "      <td>0.0</td>\n",
       "      <td>0.0</td>\n",
       "      <td>0.0</td>\n",
       "      <td>0.009467</td>\n",
       "      <td>...</td>\n",
       "      <td>0.0</td>\n",
       "      <td>0.0</td>\n",
       "      <td>0.0</td>\n",
       "      <td>0.0</td>\n",
       "      <td>0.0</td>\n",
       "      <td>-0.501880</td>\n",
       "      <td>0.000000</td>\n",
       "      <td>-0.040461</td>\n",
       "      <td>-0.002287</td>\n",
       "      <td>-0.104823</td>\n",
       "    </tr>\n",
       "    <tr>\n",
       "      <th>61200</th>\n",
       "      <td>0.0</td>\n",
       "      <td>0.000000</td>\n",
       "      <td>0.0</td>\n",
       "      <td>0.102206</td>\n",
       "      <td>0.0</td>\n",
       "      <td>0.0</td>\n",
       "      <td>0.0</td>\n",
       "      <td>0.0</td>\n",
       "      <td>0.0</td>\n",
       "      <td>0.008868</td>\n",
       "      <td>...</td>\n",
       "      <td>0.0</td>\n",
       "      <td>0.0</td>\n",
       "      <td>0.0</td>\n",
       "      <td>0.0</td>\n",
       "      <td>0.0</td>\n",
       "      <td>-0.504203</td>\n",
       "      <td>0.000000</td>\n",
       "      <td>-0.033962</td>\n",
       "      <td>-0.003184</td>\n",
       "      <td>-0.099117</td>\n",
       "    </tr>\n",
       "    <tr>\n",
       "      <th>64800</th>\n",
       "      <td>0.0</td>\n",
       "      <td>0.000000</td>\n",
       "      <td>0.0</td>\n",
       "      <td>0.101954</td>\n",
       "      <td>0.0</td>\n",
       "      <td>0.0</td>\n",
       "      <td>0.0</td>\n",
       "      <td>0.0</td>\n",
       "      <td>0.0</td>\n",
       "      <td>0.007670</td>\n",
       "      <td>...</td>\n",
       "      <td>0.0</td>\n",
       "      <td>0.0</td>\n",
       "      <td>0.0</td>\n",
       "      <td>0.0</td>\n",
       "      <td>0.0</td>\n",
       "      <td>-0.506109</td>\n",
       "      <td>0.000000</td>\n",
       "      <td>-0.024757</td>\n",
       "      <td>-0.000368</td>\n",
       "      <td>-0.089497</td>\n",
       "    </tr>\n",
       "    <tr>\n",
       "      <th>68400</th>\n",
       "      <td>0.0</td>\n",
       "      <td>0.000000</td>\n",
       "      <td>0.0</td>\n",
       "      <td>0.103910</td>\n",
       "      <td>0.0</td>\n",
       "      <td>0.0</td>\n",
       "      <td>0.0</td>\n",
       "      <td>0.0</td>\n",
       "      <td>0.0</td>\n",
       "      <td>0.007670</td>\n",
       "      <td>...</td>\n",
       "      <td>0.0</td>\n",
       "      <td>0.0</td>\n",
       "      <td>0.0</td>\n",
       "      <td>0.0</td>\n",
       "      <td>0.0</td>\n",
       "      <td>-0.508232</td>\n",
       "      <td>0.000000</td>\n",
       "      <td>-0.022870</td>\n",
       "      <td>-0.003150</td>\n",
       "      <td>-0.086163</td>\n",
       "    </tr>\n",
       "    <tr>\n",
       "      <th>72000</th>\n",
       "      <td>0.0</td>\n",
       "      <td>0.000000</td>\n",
       "      <td>0.0</td>\n",
       "      <td>0.102648</td>\n",
       "      <td>0.0</td>\n",
       "      <td>0.0</td>\n",
       "      <td>0.0</td>\n",
       "      <td>0.0</td>\n",
       "      <td>0.0</td>\n",
       "      <td>0.010186</td>\n",
       "      <td>...</td>\n",
       "      <td>0.0</td>\n",
       "      <td>0.0</td>\n",
       "      <td>0.0</td>\n",
       "      <td>0.0</td>\n",
       "      <td>0.0</td>\n",
       "      <td>-0.511702</td>\n",
       "      <td>0.000000</td>\n",
       "      <td>-0.032128</td>\n",
       "      <td>-0.013224</td>\n",
       "      <td>-0.100087</td>\n",
       "    </tr>\n",
       "    <tr>\n",
       "      <th>75600</th>\n",
       "      <td>0.0</td>\n",
       "      <td>0.000000</td>\n",
       "      <td>0.0</td>\n",
       "      <td>0.102648</td>\n",
       "      <td>0.0</td>\n",
       "      <td>0.0</td>\n",
       "      <td>0.0</td>\n",
       "      <td>0.0</td>\n",
       "      <td>0.0</td>\n",
       "      <td>0.011505</td>\n",
       "      <td>...</td>\n",
       "      <td>0.0</td>\n",
       "      <td>0.0</td>\n",
       "      <td>0.0</td>\n",
       "      <td>0.0</td>\n",
       "      <td>0.0</td>\n",
       "      <td>-0.515138</td>\n",
       "      <td>0.000000</td>\n",
       "      <td>-0.038072</td>\n",
       "      <td>-0.017264</td>\n",
       "      <td>-0.108767</td>\n",
       "    </tr>\n",
       "    <tr>\n",
       "      <th>79200</th>\n",
       "      <td>0.0</td>\n",
       "      <td>0.022712</td>\n",
       "      <td>0.0</td>\n",
       "      <td>0.105424</td>\n",
       "      <td>0.0</td>\n",
       "      <td>0.0</td>\n",
       "      <td>0.0</td>\n",
       "      <td>0.0</td>\n",
       "      <td>0.0</td>\n",
       "      <td>0.014860</td>\n",
       "      <td>...</td>\n",
       "      <td>0.0</td>\n",
       "      <td>0.0</td>\n",
       "      <td>0.0</td>\n",
       "      <td>0.0</td>\n",
       "      <td>0.0</td>\n",
       "      <td>-0.832256</td>\n",
       "      <td>0.000000</td>\n",
       "      <td>-0.023159</td>\n",
       "      <td>-0.017062</td>\n",
       "      <td>0.107782</td>\n",
       "    </tr>\n",
       "    <tr>\n",
       "      <th>82800</th>\n",
       "      <td>0.0</td>\n",
       "      <td>0.022712</td>\n",
       "      <td>0.0</td>\n",
       "      <td>0.105234</td>\n",
       "      <td>0.0</td>\n",
       "      <td>0.0</td>\n",
       "      <td>0.0</td>\n",
       "      <td>0.0</td>\n",
       "      <td>0.0</td>\n",
       "      <td>0.020013</td>\n",
       "      <td>...</td>\n",
       "      <td>0.0</td>\n",
       "      <td>0.0</td>\n",
       "      <td>0.0</td>\n",
       "      <td>0.0</td>\n",
       "      <td>0.0</td>\n",
       "      <td>-0.833150</td>\n",
       "      <td>0.000000</td>\n",
       "      <td>-0.044252</td>\n",
       "      <td>-0.028879</td>\n",
       "      <td>0.057255</td>\n",
       "    </tr>\n",
       "    <tr>\n",
       "      <th>86400</th>\n",
       "      <td>0.0</td>\n",
       "      <td>0.039116</td>\n",
       "      <td>0.0</td>\n",
       "      <td>0.103279</td>\n",
       "      <td>0.0</td>\n",
       "      <td>0.0</td>\n",
       "      <td>0.0</td>\n",
       "      <td>0.0</td>\n",
       "      <td>0.0</td>\n",
       "      <td>0.016059</td>\n",
       "      <td>...</td>\n",
       "      <td>0.0</td>\n",
       "      <td>0.0</td>\n",
       "      <td>0.0</td>\n",
       "      <td>0.0</td>\n",
       "      <td>0.0</td>\n",
       "      <td>-0.825679</td>\n",
       "      <td>0.000000</td>\n",
       "      <td>0.016562</td>\n",
       "      <td>-0.008836</td>\n",
       "      <td>0.137811</td>\n",
       "    </tr>\n",
       "  </tbody>\n",
       "</table>\n",
       "<p>25 rows × 97 columns</p>\n",
       "</div>"
      ],
      "text/plain": [
       "name    10        15   20        35   40   50   60  601   61       101  ...  \\\n",
       "0      0.0  0.039116  0.0  0.103279  0.0  0.0  0.0  0.0  0.0  0.016059  ...   \n",
       "3600   0.0  0.039116  0.0  0.107632  0.0  0.0  0.0  0.0  0.0  0.023249  ...   \n",
       "7200   0.0  0.039116  0.0  0.108452  0.0  0.0  0.0  0.0  0.0  0.017497  ...   \n",
       "10800  0.0  0.039116  0.0  0.108452  0.0  0.0  0.0  0.0  0.0  0.017257  ...   \n",
       "14400  0.0  0.039116  0.0  0.112995  0.0  0.0  0.0  0.0  0.0  0.009108  ...   \n",
       "18000  0.0  0.022712  0.0  0.114761  0.0  0.0  0.0  0.0  0.0  0.011025  ...   \n",
       "21600  0.0  0.022712  0.0  0.112111  0.0  0.0  0.0  0.0  0.0  0.010186  ...   \n",
       "25200  0.0  0.000000  0.0  0.116212  0.0  0.0  0.0  0.0  0.0  0.012823  ...   \n",
       "28800  0.0  0.000000  0.0  0.114509  0.0  0.0  0.0  0.0  0.0  0.011505  ...   \n",
       "32400  0.0  0.000000  0.0  0.115140  0.0  0.0  0.0  0.0  0.0  0.013182  ...   \n",
       "36000  0.0  0.000000  0.0  0.117095  0.0  0.0  0.0  0.0  0.0  0.012943  ...   \n",
       "39600  0.0  0.022712  0.0  0.113625  0.0  0.0  0.0  0.0  0.0  0.014261  ...   \n",
       "43200  0.0  0.022712  0.0  0.114761  0.0  0.0  0.0  0.0  0.0  0.013901  ...   \n",
       "46800  0.0  0.022712  0.0  0.109335  0.0  0.0  0.0  0.0  0.0  0.012943  ...   \n",
       "50400  0.0  0.022712  0.0  0.104982  0.0  0.0  0.0  0.0  0.0  0.011505  ...   \n",
       "54000  0.0  0.022712  0.0  0.102206  0.0  0.0  0.0  0.0  0.0  0.009947  ...   \n",
       "57600  0.0  0.000000  0.0  0.101764  0.0  0.0  0.0  0.0  0.0  0.009467  ...   \n",
       "61200  0.0  0.000000  0.0  0.102206  0.0  0.0  0.0  0.0  0.0  0.008868  ...   \n",
       "64800  0.0  0.000000  0.0  0.101954  0.0  0.0  0.0  0.0  0.0  0.007670  ...   \n",
       "68400  0.0  0.000000  0.0  0.103910  0.0  0.0  0.0  0.0  0.0  0.007670  ...   \n",
       "72000  0.0  0.000000  0.0  0.102648  0.0  0.0  0.0  0.0  0.0  0.010186  ...   \n",
       "75600  0.0  0.000000  0.0  0.102648  0.0  0.0  0.0  0.0  0.0  0.011505  ...   \n",
       "79200  0.0  0.022712  0.0  0.105424  0.0  0.0  0.0  0.0  0.0  0.014860  ...   \n",
       "82800  0.0  0.022712  0.0  0.105234  0.0  0.0  0.0  0.0  0.0  0.020013  ...   \n",
       "86400  0.0  0.039116  0.0  0.103279  0.0  0.0  0.0  0.0  0.0  0.016059  ...   \n",
       "\n",
       "name   267  269  271  273  275     River      Lake         1         2  \\\n",
       "0      0.0  0.0  0.0  0.0  0.0 -0.830136  0.000000  0.029043 -0.020769   \n",
       "3600   0.0  0.0  0.0  0.0  0.0 -0.824089 -0.216728  0.062875 -0.019413   \n",
       "7200   0.0  0.0  0.0  0.0  0.0 -0.818417 -0.210107  0.078844  0.008373   \n",
       "10800  0.0  0.0  0.0  0.0  0.0 -0.815752 -0.208697  0.074248  0.010390   \n",
       "14400  0.0  0.0  0.0  0.0  0.0 -0.806913 -0.198094  0.100969  0.035917   \n",
       "18000  0.0  0.0  0.0  0.0  0.0 -0.489026 -0.206931  0.030009  0.015657   \n",
       "21600  0.0  0.0  0.0  0.0  0.0 -0.484720 -0.205678  0.032103  0.016714   \n",
       "25200  0.0  0.0  0.0  0.0  0.0 -0.483577 -0.207558  0.016952  0.007903   \n",
       "28800  0.0  0.0  0.0  0.0  0.0 -0.481467 -0.206037  0.022452  0.010767   \n",
       "32400  0.0  0.0  0.0  0.0  0.0 -0.486874 -0.207639  0.001394  0.004600   \n",
       "36000  0.0  0.0  0.0  0.0  0.0 -0.487772 -0.207563 -0.000861  0.004555   \n",
       "39600  0.0  0.0  0.0  0.0  0.0 -0.489577 -0.208925 -0.011947 -0.000931   \n",
       "43200  0.0  0.0  0.0  0.0  0.0 -0.490919 -0.208892 -0.008448  0.000215   \n",
       "46800  0.0  0.0  0.0  0.0  0.0 -0.491979 -0.208324  0.000694  0.002278   \n",
       "50400  0.0  0.0  0.0  0.0  0.0 -0.492698 -0.207229  0.010498  0.006253   \n",
       "54000  0.0  0.0  0.0  0.0  0.0 -0.500320  0.000000 -0.050989 -0.001699   \n",
       "57600  0.0  0.0  0.0  0.0  0.0 -0.501880  0.000000 -0.040461 -0.002287   \n",
       "61200  0.0  0.0  0.0  0.0  0.0 -0.504203  0.000000 -0.033962 -0.003184   \n",
       "64800  0.0  0.0  0.0  0.0  0.0 -0.506109  0.000000 -0.024757 -0.000368   \n",
       "68400  0.0  0.0  0.0  0.0  0.0 -0.508232  0.000000 -0.022870 -0.003150   \n",
       "72000  0.0  0.0  0.0  0.0  0.0 -0.511702  0.000000 -0.032128 -0.013224   \n",
       "75600  0.0  0.0  0.0  0.0  0.0 -0.515138  0.000000 -0.038072 -0.017264   \n",
       "79200  0.0  0.0  0.0  0.0  0.0 -0.832256  0.000000 -0.023159 -0.017062   \n",
       "82800  0.0  0.0  0.0  0.0  0.0 -0.833150  0.000000 -0.044252 -0.028879   \n",
       "86400  0.0  0.0  0.0  0.0  0.0 -0.825679  0.000000  0.016562 -0.008836   \n",
       "\n",
       "name          3  \n",
       "0      0.141721  \n",
       "3600   0.191673  \n",
       "7200   0.228372  \n",
       "10800  0.226244  \n",
       "14400  0.283996  \n",
       "18000 -0.030090  \n",
       "21600  0.054851  \n",
       "25200  0.053266  \n",
       "28800  0.062234  \n",
       "32400 -0.048812  \n",
       "36000 -0.038689  \n",
       "39600 -0.059535  \n",
       "43200 -0.053064  \n",
       "46800 -0.042589  \n",
       "50400 -0.024771  \n",
       "54000 -0.126216  \n",
       "57600 -0.104823  \n",
       "61200 -0.099117  \n",
       "64800 -0.089497  \n",
       "68400 -0.086163  \n",
       "72000 -0.100087  \n",
       "75600 -0.108767  \n",
       "79200  0.107782  \n",
       "82800  0.057255  \n",
       "86400  0.137811  \n",
       "\n",
       "[25 rows x 97 columns]"
      ]
     },
     "execution_count": 69,
     "metadata": {},
     "output_type": "execute_result"
    }
   ],
   "source": [
    "results.node['demand']"
   ]
  },
  {
   "cell_type": "code",
   "execution_count": 75,
   "id": "8556d16a",
   "metadata": {},
   "outputs": [],
   "source": [
    "dem=results.node['demand']"
   ]
  },
  {
   "cell_type": "code",
   "execution_count": 76,
   "id": "06bc99d7",
   "metadata": {},
   "outputs": [
    {
     "data": {
      "text/plain": [
       "name\n",
       "10       0.000000\n",
       "15       0.039116\n",
       "20       0.000000\n",
       "35       0.117095\n",
       "40       0.000000\n",
       "           ...   \n",
       "River   -0.481467\n",
       "Lake     0.000000\n",
       "1        0.100969\n",
       "2        0.035917\n",
       "3        0.283996\n",
       "Length: 97, dtype: float32"
      ]
     },
     "execution_count": 76,
     "metadata": {},
     "output_type": "execute_result"
    }
   ],
   "source": [
    "dem.max()"
   ]
  },
  {
   "cell_type": "code",
   "execution_count": 77,
   "id": "011be60c",
   "metadata": {},
   "outputs": [
    {
     "data": {
      "text/plain": [
       "0.2929278016090393"
      ]
     },
     "execution_count": 77,
     "metadata": {},
     "output_type": "execute_result"
    }
   ],
   "source": [
    "dem.max().max()"
   ]
  },
  {
   "cell_type": "markdown",
   "id": "d2c1b9f2",
   "metadata": {},
   "source": [
    "What is the maximum flow rate from the river?\n",
    "Let's do this by finding maximum flow in pipe 60 (not the only way)"
   ]
  },
  {
   "cell_type": "code",
   "execution_count": 80,
   "id": "7db58da1",
   "metadata": {},
   "outputs": [
    {
     "data": {
      "text/plain": [
       "dict_keys(['quality', 'flowrate', 'velocity', 'headloss', 'status', 'setting', 'friction_factor', 'reaction_rate'])"
      ]
     },
     "execution_count": 80,
     "metadata": {},
     "output_type": "execute_result"
    }
   ],
   "source": [
    "results.link.keys()"
   ]
  },
  {
   "cell_type": "code",
   "execution_count": 81,
   "id": "53dbff98",
   "metadata": {},
   "outputs": [],
   "source": [
    "fl60=results.link['flowrate']['60']"
   ]
  },
  {
   "cell_type": "code",
   "execution_count": 82,
   "id": "20bca66a",
   "metadata": {},
   "outputs": [
    {
     "data": {
      "text/plain": [
       "0        0.830136\n",
       "3600     0.824089\n",
       "7200     0.818417\n",
       "10800    0.815752\n",
       "14400    0.806913\n",
       "18000    0.489026\n",
       "21600    0.484720\n",
       "25200    0.483577\n",
       "28800    0.481467\n",
       "32400    0.486874\n",
       "36000    0.487772\n",
       "39600    0.489577\n",
       "43200    0.490919\n",
       "46800    0.491979\n",
       "50400    0.492698\n",
       "54000    0.500320\n",
       "57600    0.501880\n",
       "61200    0.504203\n",
       "64800    0.506109\n",
       "68400    0.508232\n",
       "72000    0.511702\n",
       "75600    0.515138\n",
       "79200    0.832256\n",
       "82800    0.833150\n",
       "86400    0.825679\n",
       "Name: 60, dtype: float32"
      ]
     },
     "execution_count": 82,
     "metadata": {},
     "output_type": "execute_result"
    }
   ],
   "source": [
    "fl60"
   ]
  },
  {
   "cell_type": "code",
   "execution_count": 83,
   "id": "d063bf48",
   "metadata": {},
   "outputs": [
    {
     "data": {
      "text/plain": [
       "[<matplotlib.lines.Line2D at 0x1be8a462b80>]"
      ]
     },
     "execution_count": 83,
     "metadata": {},
     "output_type": "execute_result"
    },
    {
     "data": {
      "image/png": "[encoded data removed]",
      "text/plain": [
       "<Figure size 432x288 with 1 Axes>"
      ]
     },
     "metadata": {
      "needs_background": "light"
     },
     "output_type": "display_data"
    }
   ],
   "source": [
    "plt.plot(fl60)"
   ]
  },
  {
   "cell_type": "code",
   "execution_count": 84,
   "id": "e5886a65",
   "metadata": {},
   "outputs": [
    {
     "data": {
      "text/plain": [
       "0.833150327205658"
      ]
     },
     "execution_count": 84,
     "metadata": {},
     "output_type": "execute_result"
    }
   ],
   "source": [
    "fl60.max()"
   ]
  },
  {
   "cell_type": "code",
   "execution_count": 86,
   "id": "2e51db1a",
   "metadata": {},
   "outputs": [
    {
     "data": {
      "text/plain": [
       "23.0"
      ]
     },
     "execution_count": 86,
     "metadata": {},
     "output_type": "execute_result"
    }
   ],
   "source": [
    "fl60.idxmax()/3600"
   ]
  },
  {
   "cell_type": "markdown",
   "id": "7f0c0fc4",
   "metadata": {},
   "source": [
    "## Sensitivity Analysis\n",
    "\n",
    "Let's take the impact of the diamter of pipe id '137' on the minimum pressure occuring at node '131'. And plot it. "
   ]
  },
  {
   "cell_type": "code",
   "execution_count": 110,
   "id": "f3555feb",
   "metadata": {},
   "outputs": [
    {
     "data": {
      "text/plain": [
       "-284.8741760253906"
      ]
     },
     "execution_count": 110,
     "metadata": {},
     "output_type": "execute_result"
    }
   ],
   "source": [
    "def runSet(diameter=.040):\n",
    "    wn = wntr.network.WaterNetworkModel('Net3LPS.inp') \n",
    "    wn.options.hydraulic.demand_model = 'DD'\n",
    "    p137=wn.get_link('137')\n",
    "    #print(p137.diameter)\n",
    "    p137.diameter=diameter\n",
    "    #print(p137.diameter)\n",
    "    sim = wntr.sim.EpanetSimulator(wn)\n",
    "    results=sim.run_sim()\n",
    "    mp= results.node['pressure']['131'].min()\n",
    "    \n",
    "    return mp\n",
    "\n",
    "runSet(diameter=.050)\n",
    "\n",
    "  "
   ]
  },
  {
   "cell_type": "code",
   "execution_count": 111,
   "id": "aa8576dc",
   "metadata": {},
   "outputs": [],
   "source": [
    "import numpy as np"
   ]
  },
  {
   "cell_type": "code",
   "execution_count": 112,
   "id": "95d97d03",
   "metadata": {},
   "outputs": [],
   "source": [
    "dias=np.arange(600,50,-5)"
   ]
  },
  {
   "cell_type": "code",
   "execution_count": 113,
   "id": "915e0572",
   "metadata": {},
   "outputs": [],
   "source": [
    "ps=[ runSet(d) for d in dias]"
   ]
  },
  {
   "cell_type": "code",
   "execution_count": 99,
   "id": "9f1618ff",
   "metadata": {},
   "outputs": [
    {
     "data": {
      "text/plain": [
       "46.45880126953125"
      ]
     },
     "execution_count": 99,
     "metadata": {},
     "output_type": "execute_result"
    }
   ],
   "source": [
    "min(ps)"
   ]
  },
  {
   "cell_type": "code",
   "execution_count": null,
   "id": "919b372e",
   "metadata": {},
   "outputs": [],
   "source": []
  }
 ],
 "metadata": {
  "kernelspec": {
   "display_name": "Python 3",
   "language": "python",
   "name": "python3"
  },
  "language_info": {
   "codemirror_mode": {
    "name": "ipython",
    "version": 3
   },
   "file_extension": ".py",
   "mimetype": "text/x-python",
   "name": "python",
   "nbconvert_exporter": "python",
   "pygments_lexer": "ipython3",
   "version": "3.9.5"
  }
 },
 "nbformat": 4,
 "nbformat_minor": 5
}
