{
 "cells": [
  {
   "cell_type": "markdown",
   "metadata": {},
   "source": [
    "Let's show how we can do a simple calculation"
   ]
  },
  {
   "cell_type": "code",
   "execution_count": 3,
   "metadata": {},
   "outputs": [
    {
     "data": {
      "text/plain": [
       "2"
      ]
     },
     "execution_count": 3,
     "metadata": {},
     "output_type": "execute_result"
    }
   ],
   "source": [
    "1+1"
   ]
  },
  {
   "cell_type": "markdown",
   "metadata": {},
   "source": [
    "Short string"
   ]
  },
  {
   "cell_type": "code",
   "execution_count": 5,
   "metadata": {},
   "outputs": [
    {
     "name": "stdout",
     "output_type": "stream",
     "text": [
      "Foo Bar\n"
     ]
    }
   ],
   "source": [
    "st=\"Foo\"\n",
    "tt='Bar'\n",
    "print(st,tt)"
   ]
  },
  {
   "cell_type": "markdown",
   "metadata": {},
   "source": [
    "This is a long string"
   ]
  },
  {
   "cell_type": "code",
   "execution_count": 8,
   "metadata": {},
   "outputs": [
    {
     "name": "stdout",
     "output_type": "stream",
     "text": [
      "\n",
      "Lorem ipsum dolor sit amet. Ut saepe autem ut nihil saepe est rerum suscipit. Aut quia itaque et ne\n"
     ]
    }
   ],
   "source": [
    "mystr = \"\"\"\n",
    "Lorem ipsum dolor sit amet. Ut saepe autem ut nihil saepe est rerum suscipit. Aut quia itaque et nemo incidunt aut voluptas impedit. Et totam nihil et dicta consequatur qui dolore itaque et quos ducimus est veritatis internos et libero animi eum totam quod. At ipsam adipisci et temporibus similique et commodi quia.\n",
    "\n",
    "Ut temporibus debitis ut vitae quasi est dolor laborum. Soluta maxime ut officia quia vel nostrum voluptatum.\n",
    "\n",
    "Est nobis odit est sunt illum vel maxime deserunt et optio error et eius internos eum dolor similique. Et earum dolores 33 quod fugiat qui autem libero mollitia voluptatem sit neque velit.\n",
    "\"\"\"\n",
    "short=mystr[0:100]\n",
    "print(short)"
   ]
  },
  {
   "cell_type": "code",
   "execution_count": 9,
   "metadata": {},
   "outputs": [],
   "source": [
    "arr=[1, 2, 5, 9, 9, 'apple', 25, 'peaches'] #lists"
   ]
  },
  {
   "cell_type": "code",
   "execution_count": 12,
   "metadata": {},
   "outputs": [
    {
     "data": {
      "text/plain": [
       "'apple'"
      ]
     },
     "execution_count": 12,
     "metadata": {},
     "output_type": "execute_result"
    }
   ],
   "source": [
    "arr[5] # one element"
   ]
  },
  {
   "cell_type": "code",
   "execution_count": 13,
   "metadata": {},
   "outputs": [
    {
     "data": {
      "text/plain": [
       "['apple', 25]"
      ]
     },
     "execution_count": 13,
     "metadata": {},
     "output_type": "execute_result"
    }
   ],
   "source": [
    "arr[5:7] # multiple elements"
   ]
  },
  {
   "cell_type": "markdown",
   "metadata": {},
   "source": [
    "How to split text at a delimeter (e.g. ,)"
   ]
  },
  {
   "cell_type": "code",
   "execution_count": 16,
   "metadata": {},
   "outputs": [
    {
     "name": "stdout",
     "output_type": "stream",
     "text": [
      "Col1\n",
      "col2\n",
      "['Col1', 'col2']\n"
     ]
    }
   ],
   "source": [
    "txt=\"Col1,col2\"\n",
    "cols=txt.split(\",\")\n",
    "print(cols[0])\n",
    "print(cols[1])\n",
    "print(cols)"
   ]
  },
  {
   "cell_type": "markdown",
   "metadata": {},
   "source": [
    "Mystry of list indexes"
   ]
  },
  {
   "cell_type": "code",
   "execution_count": 18,
   "metadata": {},
   "outputs": [
    {
     "data": {
      "text/plain": [
       "[0,\n",
       " 1,\n",
       " 2,\n",
       " 3,\n",
       " 4,\n",
       " 5,\n",
       " 6,\n",
       " 7,\n",
       " 8,\n",
       " 9,\n",
       " 10,\n",
       " 11,\n",
       " 12,\n",
       " 13,\n",
       " 14,\n",
       " 15,\n",
       " 16,\n",
       " 17,\n",
       " 18,\n",
       " 19,\n",
       " 20,\n",
       " 21,\n",
       " 22,\n",
       " 23]"
      ]
     },
     "execution_count": 18,
     "metadata": {},
     "output_type": "execute_result"
    }
   ],
   "source": [
    "list(range(24))"
   ]
  },
  {
   "cell_type": "markdown",
   "metadata": {},
   "source": [
    "List comprehensions"
   ]
  },
  {
   "cell_type": "code",
   "execution_count": 19,
   "metadata": {},
   "outputs": [],
   "source": [
    "lst=[1,5,8,25,0,8]"
   ]
  },
  {
   "cell_type": "code",
   "execution_count": 22,
   "metadata": {},
   "outputs": [
    {
     "name": "stdout",
     "output_type": "stream",
     "text": [
      "[1, 25, 64, 625, 0, 64]\n"
     ]
    }
   ],
   "source": [
    "nl=[]\n",
    "for x in lst:\n",
    "    nl.append(x**2)\n",
    "print(nl)"
   ]
  },
  {
   "cell_type": "code",
   "execution_count": 21,
   "metadata": {},
   "outputs": [
    {
     "data": {
      "text/plain": [
       "[1, 25, 64, 625, 0, 64]"
      ]
     },
     "execution_count": 21,
     "metadata": {},
     "output_type": "execute_result"
    }
   ],
   "source": [
    "nl=[x**2 for x in lst]\n",
    "nl"
   ]
  },
  {
   "cell_type": "code",
   "execution_count": null,
   "metadata": {},
   "outputs": [],
   "source": []
  }
 ],
 "metadata": {
  "kernelspec": {
   "display_name": "Python 3.10.5 64-bit (system)",
   "language": "python",
   "name": "python3"
  },
  "language_info": {
   "codemirror_mode": {
    "name": "ipython",
    "version": 3
   },
   "file_extension": ".py",
   "mimetype": "text/x-python",
   "name": "python",
   "nbconvert_exporter": "python",
   "pygments_lexer": "ipython3",
   "version": "3.10.5"
  },
  "orig_nbformat": 4,
  "vscode": {
   "interpreter": {
    "hash": "1721537060a5b8107cc7f26d404d8db36aed61f3a60e300859d12d171c7113cd"
   }
  }
 },
 "nbformat": 4,
 "nbformat_minor": 2
}
